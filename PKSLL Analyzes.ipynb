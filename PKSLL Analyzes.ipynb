{
 "cells": [
  {
   "cell_type": "code",
   "execution_count": 1,
   "id": "9f8e770f",
   "metadata": {},
   "outputs": [],
   "source": [
    "import logging\n",
    "import re\n",
    "import pandas as pd\n",
    "import numpy as np\n",
    "\n",
    "from dataclasses import dataclass\n",
    "from datetime import date, datetime, timezone, timedelta\n",
    "from typing import Dict, List\n",
    "from influxdb_client import InfluxDBClient, Point\n",
    "from influxdb_client.client.write_api import ASYNCHRONOUS\n",
    "from pandas import DataFrame\n",
    "from IPython.display import clear_output\n",
    "import matplotlib.pyplot as plt\n",
    "from termcolor import colored\n",
    "\n",
    "from scc_co2_buz.domain.models.well_data import IO\n",
    "from scc_co2_buz.helpers.utils.io_normalize import db_types \n",
    "from scc_co2_buz.helpers.utils.get_utc import get_utc_now\n",
    "from scc_co2_buz.domain.models.tag import TagModel"
   ]
  },
  {
   "cell_type": "code",
   "execution_count": null,
   "id": "aafae17a",
   "metadata": {},
   "outputs": [],
   "source": [
    "map_to_tag = {    \n",
    "    '9-BUZ-3-RJS': 'well injection C', '9-BUZ-1-RJS':'well injection A', '9-BUZ-6-RJS': 'well injection F', '9-BUZ-5-RJS': 'well injection E', '9-BUZ-4-RJS' : 'well injection D', '9-BUZ-2-RJS' : 'well injection B'\n",
    "}"
   ]
  },
  {
   "cell_type": "code",
   "execution_count": null,
   "id": "7a7978e1",
   "metadata": {},
   "outputs": [],
   "source": [
    "class InfluxDbConfig:\n",
    "    \"\"\"\"\n",
    "    ConfigClass for InfluxDb\n",
    "    \"\"\"\n",
    "    def __init__(self) -> None:\n",
    "        self.url = \"http://10.136.226.25:8086\"\n",
    "        self.token = \"ganimede@2050\"\n",
    "        self.org = \"PETROBRAS\"\n",
    "        self.bucket = \"vip\"\n",
    "        self.write_options = ASYNCHRONOUS"
   ]
  },
  {
   "cell_type": "code",
   "execution_count": null,
   "id": "5c4f790b",
   "metadata": {},
   "outputs": [],
   "source": [
    "class InfluxDBadapter:\n",
    "    def __init__(self, config: InfluxDbConfig) -> None:\n",
    "        self.config = config\n",
    "        self.client = InfluxDBClient(config.url, config.token, debug=None, org=config.org)\n",
    "        self.log = logging.getLogger(name='repository')\n",
    "        print(\"connecting to P-77 database...\")\n",
    "    def closeConnection(self):\n",
    "        self.client.close()\n",
    "        self.log.info('connection to database closed')\n",
    "    def AddTag(self, tag: TagModel) -> Dict[bool, Exception]:\n",
    "        try:\n",
    "            _point = self.makeTagPoint(tag)\n",
    "            self.client.write_api(\n",
    "                write_options=self.config.write_options).write(bucket=self.config.bucket, record=[_point], org=self.config.org)\n",
    "            self.log.info('tag ' + tag.tag + ' sent to database')\n",
    "\n",
    "        except Exception as e:\n",
    "            msg = 'error sending tag ' + tag.tag + ' to database ' + e.args\n",
    "            self.log.error(msg)\n",
    "            return None, e\n",
    "        return (True, None)\n",
    "\n",
    "    def addAllTags(self, tags: List[TagModel]) -> Dict[bool, Exception]:\n",
    "        try:\n",
    "            points = [self.makeTagPoint(t) for t in tags]\n",
    "            db = self.client.write_api(\n",
    "                write_options=self.config.write_options).write(bucket=self.config.bucket, org=self.config.org, record=points)\n",
    "            db.get()\n",
    "        except Exception as e:\n",
    "            msg = 'error sending tags to database ' + str(e)\n",
    "            self.log.error(msg)\n",
    "            return None, e\n",
    "        return (True, None)\n",
    "\n",
    "    def makeTagPoint(self, tag: List[TagModel]) -> Point:\n",
    "        tag_field = 'DIAGNOSTIC' if tag.io in [\n",
    "            IO.HEARTBEAT, IO.GENERALDIAG] else 'well'\n",
    "        return Point(\"IO\").tag(tag_field, tag.wn).field(tag.io, db_types[tag.io](tag.value)).time(tag.timestamp)\n",
    "\n",
    "    def getData(self, start: date, end: date, tags:[TagModel] = None) -> DataFrame:\n",
    "        params = {\n",
    "            \"start\":  datetime.fromtimestamp(datetime.timestamp(start), tz=timezone.utc),\n",
    "            \"stop\": datetime.fromtimestamp(datetime.timestamp(end), tz=timezone.utc),\n",
    "            \"bucket\": self.config.bucket\n",
    "        }\n",
    "        filter_io = ''\n",
    "        db_cols = list(set([tag.io for tag in tags]))\n",
    "        for io in db_cols:\n",
    "            if io != db_cols[-1]:\n",
    "                filter_io = filter_io + f'r[\\\"_field\\\"] == \\\"{io}\\\" or '\n",
    "            else:\n",
    "                filter_io = filter_io + f'r[\\\"_field\\\"] == \\\"{io}\\\"'\n",
    "        query = 'from(bucket: bucket)\\\n",
    "            |> range(start: start, stop: stop)\\\n",
    "            |> filter(fn: (r) => r[\"_measurement\"] == \"IO\")\\\n",
    "            |> filter(fn: (r) => ' + filter_io + ')\\\n",
    "            |> yield(name: \"last\")'\n",
    "        query_api = self.client.query_api()\n",
    "        result = query_api.query(\n",
    "            org=self.config.org, query=query, params=params)\n",
    "        results = []\n",
    "        for table in result:\n",
    "            for record in table.records:\n",
    "                results.append((datetime.fromtimestamp(\n",
    "                    record.get_time().timestamp(), tz=timezone.utc), record.get_value(), record['well'], record.get_field()))\n",
    "        df = pd.DataFrame(data=results, columns=['time', 'value', 'oil_well', 'io'])\n",
    "        df2 = df.pivot(index=['time', 'oil_well'], columns=['io'], values=['value']).reset_index()\n",
    "        df2.columns = [c[{'time': 0, 'oil_well': 0, 'value': 1}[c[0]]] for c in df2.columns]\n",
    "        return df2"
   ]
  },
  {
   "cell_type": "code",
   "execution_count": null,
   "id": "959d92ab",
   "metadata": {},
   "outputs": [],
   "source": [
    "#repo = InfluxDBadapter(config=InfluxDbConfig())\n",
    "#tag1 = TagModel(paths=[None, None],tag='PIT_1244007A',conversion=[0,1,0,1], tp='float', io=\"P-JUZ-CKP-A\")\n",
    "#tag2 = TagModel(paths=[None, None],tag='PIT_1244007B',conversion=[0,1,0,1], tp='float', io=\"P-JUZ-CKP-B\")"
   ]
  },
  {
   "cell_type": "code",
   "execution_count": null,
   "id": "6a2880b2",
   "metadata": {
    "scrolled": true
   },
   "outputs": [],
   "source": [
    "#end = get_utc_now()\n",
    "#start = get_utc_now() - timedelta(seconds=259200)\n",
    "# comentando para não ficar baixando dados do banco\n",
    "#df = repo.getData(start=start, end=end, tags=[tag1,tag2])\n",
    "#df['oil_well'] = df['oil_well'].apply(lambda x: map_to_tag[x])\n",
    "#df = df.rename(columns={IO.PJCKPA: \"PIT-1244007\", IO.PJCKPB:\"PIT-1244008\"})\n",
    "#df_select = df.query('oil_well==\"well injection C\" or oil_well == \"well injection D\"')\n",
    "#df_select.tail()"
   ]
  },
  {
   "cell_type": "code",
   "execution_count": 21,
   "id": "f8238e3f",
   "metadata": {},
   "outputs": [
    {
     "name": "stdout",
     "output_type": "stream",
     "text": [
      "Expected number of samples 2 x seconds / 5 = 84620\n",
      "Received number of samples = 78224\n",
      "lost samples = 6396.925513935086\n",
      " % lost = 0.0755950785823261\n"
     ]
    }
   ],
   "source": [
    "df_select=pd.read_csv(\"output_data.csv\")\n",
    "df_select['time'] = df_select['time'].apply(lambda x: datetime.strptime(x.split('+')[0], '%Y-%m-%d %H:%M:%S.%f') - timedelta(hours=3)) \n",
    "delta = df_select['time'].max().timestamp() - df_select['time'].min().timestamp()\n",
    "expsamples = 2 * delta / 5\n",
    "print(\"Expected number of samples 2 x seconds / 5 = \" +  str(int(expsamples)))\n",
    "print(\"Received number of samples = \" +  str(len(df_select)))\n",
    "print(\"lost samples = \" + str(2*delta/5 - len(df_select)))\n",
    "print(\" % lost = \" + str(str(( 2 * delta/ 5 - len(df_select))/(2*delta/5))))"
   ]
  },
  {
   "cell_type": "code",
   "execution_count": null,
   "id": "c41b0350",
   "metadata": {},
   "outputs": [],
   "source": [
    "df_select.head()"
   ]
  },
  {
   "cell_type": "code",
   "execution_count": null,
   "id": "90dd466a",
   "metadata": {},
   "outputs": [],
   "source": [
    "df_select[df_select['oil_well'] == 'well injection D']['PIT-1244007'].hist(bins=100)"
   ]
  },
  {
   "cell_type": "code",
   "execution_count": null,
   "id": "5a1d459a",
   "metadata": {},
   "outputs": [],
   "source": [
    "df_select[df_select['oil_well'] == 'well injection D']['PIT-1244008'].hist(bins=100)"
   ]
  },
  {
   "cell_type": "code",
   "execution_count": 22,
   "id": "32fc902c",
   "metadata": {},
   "outputs": [],
   "source": [
    "@dataclass\n",
    "class Color:\n",
    "   PURPLE = '\\033[1;35;48m'\n",
    "   CYAN = '\\033[1;36;48m'\n",
    "   BOLD = '\\033[1;37;48m'\n",
    "   BLUE = '\\033[1;34;48m'\n",
    "   GREEN = \"\\033[1;32;48m\"\n",
    "   YELLOW = '\\033[1;33;48m'\n",
    "   RED = '\\033[1;31;48m'\n",
    "   BLACK = '\\033[1;30;48m'\n",
    "   UNDERLINE = '\\033[4;37;48m'\n",
    "   END = '\\033[1;37;0m'\n",
    "\n",
    "def print_colored(msg:str, color: Color = Color.GREEN):\n",
    "    print(\"{} {} {}\".format(color,msg, Color.END))\n",
    "def calcNormStd(df, well, pit, delta = timedelta(seconds=60)):\n",
    "    start = df['time'].min()\n",
    "    end = start + delta\n",
    "    max_norm_std = -1.0\n",
    "    \n",
    "    time_limit = df.iloc[-1]['time'] - delta\n",
    "    iteration = 0\n",
    "    total_iterations = int((time_limit.timestamp() - start.timestamp()) / 60 )    \n",
    "    values = []\n",
    "    iterations = []\n",
    "    #time_limit = 1000 * delta + start\n",
    "    max_sample_data = None\n",
    "    \n",
    "    while start <= time_limit:\n",
    "        mask = (df['oil_well'] == well) & (df['time'] >= start) & (df['time'] < end) \n",
    "        current_data = df.loc[mask][pit]\n",
    "        current_norm_std = current_data.std() / current_data.mean()\n",
    "        iteration += 1\n",
    "        clear_output(wait=True)\n",
    "        msg = f'iteration = {iteration} \\n > progress = {100*iteration/total_iterations if iteration < total_iterations else 100.00} %'\n",
    "        color = \"green\"\n",
    "        print_colored(msg, Color.GREEN)\n",
    "        if current_norm_std > max_norm_std:\n",
    "            max_norm_std = current_norm_std \n",
    "            values.append(max_norm_std) \n",
    "            iterations.append(iteration)\n",
    "            print(max_norm_std)\n",
    "            max_sample_data = current_data\n",
    "        start = start + delta\n",
    "        end = end + delta\n",
    "        \n",
    "    df_std = pd.DataFrame({'iteration': iterations, 'variation': values})\n",
    "    df_std.plot(x='iteration', y='variation', kind='line')\n",
    "    plt.show()    \n",
    "    return f'coefficient of variation = {100*max_norm_std} %'\n",
    "\n",
    "def toFloat(x):\n",
    "    \n",
    "    if type(x) == float or type(x) == int:\n",
    "        return x\n",
    "    \n",
    "    x = x.strip()\n",
    "    x = x.replace(' ','')\n",
    "    \n",
    "    result1 = None\n",
    "    result2 = None\n",
    "    \n",
    "    try:\n",
    "        result1 = re.findall(r'\\d+\\.\\d+', x)\n",
    "        result2 = re.findall(r'\\d+', x)\n",
    "    except Exception as e:\n",
    "        print(str(e) + str(x))\n",
    "        return np.nan\n",
    "        \n",
    "    if len(result1) > 0 and type(result1) == list:\n",
    "        return float(result1[0])\n",
    "    elif len(result2) > 0 and type(result2) == list:\n",
    "        return float(result2[0])\n",
    "    else:\n",
    "        # comm fail from PI Web API\n",
    "        return np.nan\n",
    "\n",
    "def checkSupress(df, start, end, instrument):\n",
    "    mask = (df['time'] >= start) & (df['time'] <= end)\n",
    "    supression = df.loc[mask][instrument]\n",
    "    variation = 100 * ( supression.max() - supression.min() ) / (supression.mean() + 0.0000000001)\n",
    "    if variation >= 2.0:\n",
    "        print_colored(' > supressed by ' + str(instrument) + '\\n  in time: ' + str(df.loc[mask]['time'].iloc[-1]) + '\\n  with variation : ' + str(variation) + ' %', Color.YELLOW)\n",
    "        return True\n",
    "    return False   \n",
    "\n",
    "def treatCSVFromDatalink(file):\n",
    "    \"\"\"\n",
    "    treat csv from datalink\n",
    "    \"\"\"\n",
    "    df = pd.read_csv(file)\n",
    "    \n",
    "    for col in df.columns:\n",
    "        if col != 'time':\n",
    "            if 'SDY' in col:\n",
    "                df[col] = df[col].apply(lambda x: 1 if x == 'On' else 0)\n",
    "            else:\n",
    "                df[col] = df[col].apply(lambda x: toFloat(x))\n",
    "                std = df[col].std()\n",
    "                mean = df[col].mean()\n",
    "                df[col] = df[col].apply(lambda x: (x - mean) / (std + 0.000000000001))\n",
    "        else:\n",
    "            df[col] = df[col].apply(lambda x: datetime.strptime(x.replace('nov','11'), '%d-%m-%y %H:%M:%S'))\n",
    "    \n",
    "    #df['time'] = df['time'].apply(lambda x: datetime.strptime(x.replace('nov','11'), '%d-%m-%y %H:%M:%S'))\n",
    "    #df['P77_ZIT_1244002C'] = df['P77_ZIT_1244002C'].apply(lambda x: toFloat(x))\n",
    "    #df['P77_ZIT_1244002D'] = df['P77_ZIT_1244002D'].apply(lambda x: toFloat(x)) \n",
    "    df = df.dropna()\n",
    "    return df"
   ]
  },
  {
   "cell_type": "code",
   "execution_count": 23,
   "id": "d2474b4c",
   "metadata": {},
   "outputs": [
    {
     "data": {
      "text/html": [
       "<div>\n",
       "<style scoped>\n",
       "    .dataframe tbody tr th:only-of-type {\n",
       "        vertical-align: middle;\n",
       "    }\n",
       "\n",
       "    .dataframe tbody tr th {\n",
       "        vertical-align: top;\n",
       "    }\n",
       "\n",
       "    .dataframe thead th {\n",
       "        text-align: right;\n",
       "    }\n",
       "</style>\n",
       "<table border=\"1\" class=\"dataframe\">\n",
       "  <thead>\n",
       "    <tr style=\"text-align: right;\">\n",
       "      <th></th>\n",
       "      <th>time</th>\n",
       "      <th>P77_ZIT_1244001C</th>\n",
       "      <th>P77_ZIT_1244001D</th>\n",
       "      <th>P77_ZIT_1244002C</th>\n",
       "      <th>P77_ZIT_1244002D</th>\n",
       "      <th>P77_PIT_1244007C</th>\n",
       "      <th>P77_PIT_1244008C</th>\n",
       "      <th>P77_PIT_1244007D</th>\n",
       "      <th>P77_PIT_1244008D</th>\n",
       "      <th>P77_SDY_1210002C</th>\n",
       "      <th>P77_SDY_1210002D</th>\n",
       "    </tr>\n",
       "  </thead>\n",
       "  <tbody>\n",
       "    <tr>\n",
       "      <th>2685</th>\n",
       "      <td>2022-11-16 20:46:00</td>\n",
       "      <td>0.0</td>\n",
       "      <td>0.0</td>\n",
       "      <td>-0.359914</td>\n",
       "      <td>-0.224411</td>\n",
       "      <td>-0.585888</td>\n",
       "      <td>-0.587780</td>\n",
       "      <td>0.271143</td>\n",
       "      <td>0.259994</td>\n",
       "      <td>1</td>\n",
       "      <td>1</td>\n",
       "    </tr>\n",
       "    <tr>\n",
       "      <th>2686</th>\n",
       "      <td>2022-11-16 20:47:00</td>\n",
       "      <td>0.0</td>\n",
       "      <td>0.0</td>\n",
       "      <td>-0.359914</td>\n",
       "      <td>-0.224411</td>\n",
       "      <td>-0.590097</td>\n",
       "      <td>-0.588492</td>\n",
       "      <td>0.150772</td>\n",
       "      <td>0.144702</td>\n",
       "      <td>1</td>\n",
       "      <td>1</td>\n",
       "    </tr>\n",
       "    <tr>\n",
       "      <th>2687</th>\n",
       "      <td>2022-11-16 20:48:00</td>\n",
       "      <td>0.0</td>\n",
       "      <td>0.0</td>\n",
       "      <td>-0.359914</td>\n",
       "      <td>-0.225075</td>\n",
       "      <td>-0.597113</td>\n",
       "      <td>-0.598995</td>\n",
       "      <td>-0.107526</td>\n",
       "      <td>-0.103501</td>\n",
       "      <td>1</td>\n",
       "      <td>1</td>\n",
       "    </tr>\n",
       "    <tr>\n",
       "      <th>2688</th>\n",
       "      <td>2022-11-16 20:49:00</td>\n",
       "      <td>0.0</td>\n",
       "      <td>0.0</td>\n",
       "      <td>-0.359914</td>\n",
       "      <td>-0.224734</td>\n",
       "      <td>-0.600730</td>\n",
       "      <td>-0.599745</td>\n",
       "      <td>-0.239111</td>\n",
       "      <td>-0.228529</td>\n",
       "      <td>1</td>\n",
       "      <td>1</td>\n",
       "    </tr>\n",
       "    <tr>\n",
       "      <th>2689</th>\n",
       "      <td>2022-11-16 20:50:00</td>\n",
       "      <td>0.0</td>\n",
       "      <td>0.0</td>\n",
       "      <td>-0.359914</td>\n",
       "      <td>-0.224411</td>\n",
       "      <td>-0.601322</td>\n",
       "      <td>-0.601079</td>\n",
       "      <td>-0.256545</td>\n",
       "      <td>-0.260874</td>\n",
       "      <td>1</td>\n",
       "      <td>1</td>\n",
       "    </tr>\n",
       "  </tbody>\n",
       "</table>\n",
       "</div>"
      ],
      "text/plain": [
       "                    time  P77_ZIT_1244001C  P77_ZIT_1244001D  \\\n",
       "2685 2022-11-16 20:46:00               0.0               0.0   \n",
       "2686 2022-11-16 20:47:00               0.0               0.0   \n",
       "2687 2022-11-16 20:48:00               0.0               0.0   \n",
       "2688 2022-11-16 20:49:00               0.0               0.0   \n",
       "2689 2022-11-16 20:50:00               0.0               0.0   \n",
       "\n",
       "      P77_ZIT_1244002C  P77_ZIT_1244002D  P77_PIT_1244007C  P77_PIT_1244008C  \\\n",
       "2685         -0.359914         -0.224411         -0.585888         -0.587780   \n",
       "2686         -0.359914         -0.224411         -0.590097         -0.588492   \n",
       "2687         -0.359914         -0.225075         -0.597113         -0.598995   \n",
       "2688         -0.359914         -0.224734         -0.600730         -0.599745   \n",
       "2689         -0.359914         -0.224411         -0.601322         -0.601079   \n",
       "\n",
       "      P77_PIT_1244007D  P77_PIT_1244008D  P77_SDY_1210002C  P77_SDY_1210002D  \n",
       "2685          0.271143          0.259994                 1                 1  \n",
       "2686          0.150772          0.144702                 1                 1  \n",
       "2687         -0.107526         -0.103501                 1                 1  \n",
       "2688         -0.239111         -0.228529                 1                 1  \n",
       "2689         -0.256545         -0.260874                 1                 1  "
      ]
     },
     "execution_count": 23,
     "metadata": {},
     "output_type": "execute_result"
    }
   ],
   "source": [
    "start = df_select.iloc[0]['time']\n",
    "end = df_select.iloc[-1]['time']\n",
    "df = treatCSVFromDatalink('data.csv')\n",
    "supress = df.loc[(df['time'] >= start) & (df['time'] < end)]\n",
    "supress.head()"
   ]
  },
  {
   "cell_type": "code",
   "execution_count": null,
   "id": "517d35af",
   "metadata": {},
   "outputs": [],
   "source": [
    "calcNormStd(df_select, 'well injection C', 'PIT-1244007')"
   ]
  },
  {
   "cell_type": "code",
   "execution_count": null,
   "id": "940d51f9",
   "metadata": {
    "scrolled": true
   },
   "outputs": [],
   "source": [
    "calcNormStd(df_select, 'well injection C', 'PIT-1244008')"
   ]
  },
  {
   "cell_type": "code",
   "execution_count": null,
   "id": "0ab0608e",
   "metadata": {},
   "outputs": [],
   "source": [
    "calcNormStd(df_select, 'well injection D', 'PIT-1244007')"
   ]
  },
  {
   "cell_type": "code",
   "execution_count": null,
   "id": "028593a2",
   "metadata": {},
   "outputs": [],
   "source": [
    "calcNormStd(df_select, 'well injection D', 'PIT-1244008')"
   ]
  },
  {
   "cell_type": "code",
   "execution_count": 28,
   "id": "eaa7cb53",
   "metadata": {},
   "outputs": [],
   "source": [
    "class Signal:\n",
    "    def __init__(self):\n",
    "        self.io_input = []\n",
    "        self.io_ouput = []\n",
    "        self.alarm_values = [0,0,0,0,0,0]\n",
    "        self.sample_values = [0,0,0,0,0,0]\n",
    "        self.values = [0,0,0,0,0,0,0,0,0]\n",
    "        \n",
    "    def check_alarm(self, supress , instrument_supress, time_, i, v, set_point_ll = -67 * 100):\n",
    "        self.alarm_values.append(1.0 if v <= set_point_ll else 0.0 ) \n",
    "        self.alarm_values.pop(0)\n",
    "        self.sample_values.append(v)\n",
    "        self.sample_values.pop(0)\n",
    "        check = 1\n",
    "    \n",
    "        if sum(self.alarm_values) == 6:\n",
    "            \n",
    "            # check supress \n",
    "            start = time_.floor(freq='MIN') - timedelta(seconds=120) \n",
    "            end = time_.floor(freq='MIN') \n",
    "            \n",
    "            mask = (supress['time'] >= start) & (supress['time'] <= end)\n",
    "            supression = supress.loc[mask][instrument_supress]\n",
    "            print(supression)\n",
    "            \n",
    "            if checkSupress(supress, start, end, instrument_supress):\n",
    "                #print('-1')  \n",
    "                self.alarm_values = [0,0,0,0,0,0]\n",
    "                self.sample_values = [0,0,0,0,0,0]\n",
    "                return 0\n",
    "        \n",
    "            #check = 0 if checkSupress(supress, start, end, instrument_supress) else 1\n",
    "            print_colored(f'{start} , {end}',Color.BLUE)\n",
    "            color = Color.RED if check == 1 else Color.GREEN\n",
    "            # print alarm\n",
    "            print_colored('iter = '+ str(i), color)\n",
    "            print_colored('time = '+ str(time_), color)\n",
    "            print_colored('signal inputs '+ str(self.values) + ' kPa', color)\n",
    "            print_colored('signal outputs'+ str(self.sample_values) + ' kPa/min',color)\n",
    "            self.alarm_values = [0,0,0,0,0,0]\n",
    "            self.sample_values = [0,0,0,0,0,0]\n",
    "            check = 1\n",
    "        else:\n",
    "            check = 0\n",
    "        \n",
    "        return check\n",
    "    \n",
    "    def signalFilter(self, supress, df, well, instrument , instrument_supress , coef = [-4,-3,-2,-1,0,1,2,3,4], gain = 1.0):\n",
    "        delta_sec = 5\n",
    "        mask = (df['oil_well'] == well)\n",
    "        current_data = df.loc[mask][instrument]\n",
    "        current_time = df.loc[mask]['time']\n",
    "        total_iterations = int(len(current_data) * 1)\n",
    "        iter_out = []\n",
    "        status_in_alarm = 0\n",
    "        alarms = []\n",
    "        for i in range(total_iterations):\n",
    "            iter_out.append(i)\n",
    "            self.io_input.append(current_data.iloc[i]) \n",
    "            #clear_output(wait=True)\n",
    "            #print_colored(f' progress: {100 * (i + 1) / total_iterations} %', Color.BLUE)\n",
    "            out_ = 0\n",
    "            self.values.append(current_data.iloc[i])\n",
    "            self.values.pop(0)\n",
    "            for c, v in  zip(coef,self.values):\n",
    "                out_  +=  c * v\n",
    "            filtered = gain * out_ / delta_sec\n",
    "            self.io_ouput.append(filtered) \n",
    "            alarms.append(self.check_alarm(supress,instrument_supress, current_time.iloc[i], i, filtered))\n",
    "        \n",
    "        # alarm\n",
    "        alm = DataFrame({'time':iter_out,'alarms': alarms})\n",
    "        alm.plot(x='time',y='alarms', kind='line')\n",
    "        # input signal\n",
    "        df_input = DataFrame({'time': iter_out, instrument: self.io_input})\n",
    "        df_input.plot(x='time', y=instrument, kind='line')\n",
    "        # supress signal\n",
    "        supress.plot(x='time', y=instrument_supress, kind='line')\n",
    "        \n",
    "        total_alarms = alm.sum().values[1]\n",
    "        color = Color.RED if total_alarms >= 1 else Color.GREEN\n",
    "        print_colored(' total alarms =  ' + str(total_alarms), color)\n",
    "        return DataFrame({'time':iter_out,'filtered_signal': self.io_ouput})\n",
    "\n"
   ]
  },
  {
   "cell_type": "code",
   "execution_count": 29,
   "id": "a81a36ab",
   "metadata": {
    "scrolled": true
   },
   "outputs": [
    {
     "name": "stdout",
     "output_type": "stream",
     "text": [
      "5226   -0.252309\n",
      "5227   -0.252309\n",
      "5228   -0.254432\n",
      "Name: P77_ZIT_1244002D, dtype: float64\n",
      "\u001b[1;34;48m 2022-11-18 15:07:00 , 2022-11-18 15:09:00 \u001b[1;37;0m\n",
      "\u001b[1;31;48m iter = 28257 \u001b[1;37;0m\n",
      "\u001b[1;31;48m time = 2022-11-18 15:09:49.347342 \u001b[1;37;0m\n",
      "\u001b[1;31;48m signal inputs [39326.44921875, 38609.3984375, 37888.046875, 37256.859375, 36638.55859375, 36131.8984375, 35633.83203125, 35208.75390625, 34783.66015625] kPa \u001b[1;37;0m\n",
      "\u001b[1;31;48m signal outputs[-7186.0234375, -7662.63515625, -7842.11171875, -7720.1671875, -7331.14609375, -6801.29609375] kPa/min \u001b[1;37;0m\n",
      "\u001b[1;31;48m  total alarms =  1 \u001b[1;37;0m\n"
     ]
    },
    {
     "data": {
      "image/png": "[encoded data removed]",
      "text/plain": [
       "<Figure size 432x288 with 1 Axes>"
      ]
     },
     "metadata": {
      "needs_background": "light"
     },
     "output_type": "display_data"
    },
    {
     "data": {
      "image/png": "[encoded data removed]",
      "text/plain": [
       "<Figure size 432x288 with 1 Axes>"
      ]
     },
     "metadata": {
      "needs_background": "light"
     },
     "output_type": "display_data"
    },
    {
     "data": {
      "image/png": "[encoded data removed]",
      "text/plain": [
       "<Figure size 432x288 with 1 Axes>"
      ]
     },
     "metadata": {
      "needs_background": "light"
     },
     "output_type": "display_data"
    },
    {
     "data": {
      "image/png": "[encoded data removed]",
      "text/plain": [
       "<Figure size 432x288 with 1 Axes>"
      ]
     },
     "metadata": {
      "needs_background": "light"
     },
     "output_type": "display_data"
    }
   ],
   "source": [
    "s = Signal()\n",
    "result = s.signalFilter(supress,  df_select, 'well injection D', 'PIT-1244007' , 'P77_ZIT_1244002D')\n",
    "result.plot(x='time',y='filtered_signal', kind='line')\n",
    "plt.show()"
   ]
  },
  {
   "cell_type": "code",
   "execution_count": 12,
   "id": "e65da2b4",
   "metadata": {},
   "outputs": [
    {
     "name": "stdout",
     "output_type": "stream",
     "text": [
      "5398    1\n",
      "5399    1\n",
      "5400    1\n",
      "5401    1\n",
      "5402    1\n",
      "5403    1\n",
      "5404    1\n",
      "5405    1\n",
      "5406    1\n",
      "5407    1\n",
      "5408    1\n",
      "Name: P77_SDY_1210002D, dtype: int64\n",
      "\u001b[1;34;48m 2022-11-18 17:59:00 , 2022-11-18 18:09:00 \u001b[1;37;0m\n",
      "\u001b[1;31;48m iter = 28257 \u001b[1;37;0m\n",
      "\u001b[1;31;48m time = 2022-11-18 18:09:49.347342 \u001b[1;37;0m\n",
      "\u001b[1;31;48m signal inputs [39300.6875, 38583.6328125, 37853.69921875, 37222.51171875, 36608.51171875, 36114.7265625, 35608.05859375, 35161.51171875, 34749.3125] kPa \u001b[1;37;0m\n",
      "\u001b[1;31;48m signal outputs[-7176.5734375, -7657.46640625, -7832.6546875, -7717.5875, -7333.72734375, -6814.1859375] kPa/min \u001b[1;37;0m\n",
      "\u001b[1;31;48m  total alarms =  1 \u001b[1;37;0m\n"
     ]
    },
    {
     "data": {
      "image/png": "[encoded data removed]",
      "text/plain": [
       "<Figure size 432x288 with 1 Axes>"
      ]
     },
     "metadata": {
      "needs_background": "light"
     },
     "output_type": "display_data"
    },
    {
     "data": {
      "image/png": "[encoded data removed]",
      "text/plain": [
       "<Figure size 432x288 with 1 Axes>"
      ]
     },
     "metadata": {
      "needs_background": "light"
     },
     "output_type": "display_data"
    },
    {
     "data": {
      "image/png": "[encoded data removed]",
      "text/plain": [
       "<Figure size 432x288 with 1 Axes>"
      ]
     },
     "metadata": {
      "needs_background": "light"
     },
     "output_type": "display_data"
    },
    {
     "data": {
      "image/png": "[encoded data removed]",
      "text/plain": [
       "<Figure size 432x288 with 1 Axes>"
      ]
     },
     "metadata": {
      "needs_background": "light"
     },
     "output_type": "display_data"
    }
   ],
   "source": [
    "s = Signal()\n",
    "result = s.signalFilter(supress, df_select, 'well injection D', 'PIT-1244008', 'P77_SDY_1210002D')\n",
    "result.plot(x='time',y='filtered_signal', kind='line')\n",
    "plt.show()"
   ]
  },
  {
   "cell_type": "code",
   "execution_count": 13,
   "id": "d448a863",
   "metadata": {},
   "outputs": [
    {
     "name": "stdout",
     "output_type": "stream",
     "text": [
      "5535    1\n",
      "5536    1\n",
      "5537    1\n",
      "5538    1\n",
      "5539    1\n",
      "5540    1\n",
      "5541    1\n",
      "5542    1\n",
      "5543    1\n",
      "5544    1\n",
      "5545    1\n",
      "Name: P77_SDY_1210002C, dtype: int64\n",
      "\u001b[1;34;48m 2022-11-18 20:16:00 , 2022-11-18 20:26:00 \u001b[1;37;0m\n",
      "\u001b[1;31;48m iter = 29774 \u001b[1;37;0m\n",
      "\u001b[1;31;48m time = 2022-11-18 20:26:27.522296 \u001b[1;37;0m\n",
      "\u001b[1;31;48m signal inputs [40824.96875, 40824.96875, 37196.75390625, 29004.279296875, 28879.759765625, 29300.55078125, 29167.439453125, 29124.5, 29382.130859375] kPa \u001b[1;37;0m\n",
      "\u001b[1;31;48m signal outputs[-11512.40078125, -18113.609765625, -21850.026171875, -23386.330078125, -22628.05859375, -19327.023046875] kPa/min \u001b[1;37;0m\n",
      "\u001b[1;31;48m  total alarms =  1 \u001b[1;37;0m\n"
     ]
    },
    {
     "data": {
      "image/png": "[encoded data removed]",
      "text/plain": [
       "<Figure size 432x288 with 1 Axes>"
      ]
     },
     "metadata": {
      "needs_background": "light"
     },
     "output_type": "display_data"
    },
    {
     "data": {
      "image/png": "[encoded data removed]",
      "text/plain": [
       "<Figure size 432x288 with 1 Axes>"
      ]
     },
     "metadata": {
      "needs_background": "light"
     },
     "output_type": "display_data"
    },
    {
     "data": {
      "image/png": "[encoded data removed]",
      "text/plain": [
       "<Figure size 432x288 with 1 Axes>"
      ]
     },
     "metadata": {
      "needs_background": "light"
     },
     "output_type": "display_data"
    },
    {
     "data": {
      "image/png": "[encoded data removed]",
      "text/plain": [
       "<Figure size 432x288 with 1 Axes>"
      ]
     },
     "metadata": {
      "needs_background": "light"
     },
     "output_type": "display_data"
    }
   ],
   "source": [
    "s = Signal()\n",
    "result = s.signalFilter(supress, df_select, 'well injection C', 'PIT-1244007', 'P77_SDY_1210002C')\n",
    "result.plot(x='time',y='filtered_signal', kind='line')\n",
    "plt.show()"
   ]
  },
  {
   "cell_type": "code",
   "execution_count": 14,
   "id": "b781b4c4",
   "metadata": {},
   "outputs": [
    {
     "name": "stdout",
     "output_type": "stream",
     "text": [
      "5535    1\n",
      "5536    1\n",
      "5537    1\n",
      "5538    1\n",
      "5539    1\n",
      "5540    1\n",
      "5541    1\n",
      "5542    1\n",
      "5543    1\n",
      "5544    1\n",
      "5545    1\n",
      "Name: P77_SDY_1210002C, dtype: int64\n",
      "\u001b[1;34;48m 2022-11-18 20:16:00 , 2022-11-18 20:26:00 \u001b[1;37;0m\n",
      "\u001b[1;31;48m iter = 29774 \u001b[1;37;0m\n",
      "\u001b[1;31;48m time = 2022-11-18 20:26:27.522296 \u001b[1;37;0m\n",
      "\u001b[1;31;48m signal inputs [40962.3671875, 40962.3671875, 38098.44140625, 29133.08984375, 28982.810546875, 29399.30078125, 29270.490234375, 29227.55078125, 29485.1796875] kPa \u001b[1;37;0m\n",
      "\u001b[1;31;48m signal outputs[-11058.12421875, -17843.109375, -21756.431640625, -23458.4703125, -22854.76640625, -19700.578125] kPa/min \u001b[1;37;0m\n",
      "\u001b[1;31;48m  total alarms =  1 \u001b[1;37;0m\n"
     ]
    },
    {
     "data": {
      "image/png": "[encoded data removed]",
      "text/plain": [
       "<Figure size 432x288 with 1 Axes>"
      ]
     },
     "metadata": {
      "needs_background": "light"
     },
     "output_type": "display_data"
    },
    {
     "data": {
      "image/png": "[encoded data removed]",
      "text/plain": [
       "<Figure size 432x288 with 1 Axes>"
      ]
     },
     "metadata": {
      "needs_background": "light"
     },
     "output_type": "display_data"
    },
    {
     "data": {
      "image/png": "[encoded data removed]",
      "text/plain": [
       "<Figure size 432x288 with 1 Axes>"
      ]
     },
     "metadata": {
      "needs_background": "light"
     },
     "output_type": "display_data"
    },
    {
     "data": {
      "image/png": "[encoded data removed]",
      "text/plain": [
       "<Figure size 432x288 with 1 Axes>"
      ]
     },
     "metadata": {
      "needs_background": "light"
     },
     "output_type": "display_data"
    }
   ],
   "source": [
    "s = Signal()\n",
    "result = s.signalFilter(supress, df_select, 'well injection C', 'PIT-1244008', 'P77_SDY_1210002C')\n",
    "result.plot(x='time',y='filtered_signal', kind='line')\n",
    "plt.show()"
   ]
  },
  {
   "cell_type": "code",
   "execution_count": 16,
   "id": "02ed3727",
   "metadata": {},
   "outputs": [
    {
     "data": {
      "text/plain": [
       "<AxesSubplot:xlabel='time'>"
      ]
     },
     "execution_count": 16,
     "metadata": {},
     "output_type": "execute_result"
    },
    {
     "data": {
      "image/png": "[encoded data removed]",
      "text/plain": [
       "<Figure size 720x432 with 1 Axes>"
      ]
     },
     "metadata": {
      "needs_background": "light"
     },
     "output_type": "display_data"
    }
   ],
   "source": [
    "start = '2022-11-18 14:01:00'\n",
    "end =  '2022-11-18 20:01:00'\n",
    "select = supress.loc[(supress['time'] >= start )&(supress['time'] <= end)]\n",
    "select.plot(x='time', y=['P77_PIT_1244007C','P77_ZIT_1244002C','P77_PIT_1244008C', 'P77_SDY_1210002C'], kind='line', figsize=(10, 6))"
   ]
  },
  {
   "cell_type": "code",
   "execution_count": 17,
   "id": "264ece74",
   "metadata": {},
   "outputs": [
    {
     "data": {
      "text/plain": [
       "<AxesSubplot:xlabel='time'>"
      ]
     },
     "execution_count": 17,
     "metadata": {},
     "output_type": "execute_result"
    },
    {
     "data": {
      "image/png": "[encoded data removed]",
      "text/plain": [
       "<Figure size 720x432 with 1 Axes>"
      ]
     },
     "metadata": {
      "needs_background": "light"
     },
     "output_type": "display_data"
    }
   ],
   "source": [
    "start = '2022-11-18 14:01:00'\n",
    "end =  '2022-11-18 20:01:00'\n",
    "select = supress.loc[(supress['time'] >= start )&(supress['time'] <= end)]\n",
    "select.plot(x='time', y=['P77_PIT_1244007D','P77_SDY_1210002D','P77_PIT_1244008D'], kind='line', figsize=(10, 6))"
   ]
  },
  {
   "cell_type": "code",
   "execution_count": 20,
   "id": "1828dd6b",
   "metadata": {},
   "outputs": [
    {
     "data": {
      "text/html": [
       "<div>\n",
       "<style scoped>\n",
       "    .dataframe tbody tr th:only-of-type {\n",
       "        vertical-align: middle;\n",
       "    }\n",
       "\n",
       "    .dataframe tbody tr th {\n",
       "        vertical-align: top;\n",
       "    }\n",
       "\n",
       "    .dataframe thead th {\n",
       "        text-align: right;\n",
       "    }\n",
       "</style>\n",
       "<table border=\"1\" class=\"dataframe\">\n",
       "  <thead>\n",
       "    <tr style=\"text-align: right;\">\n",
       "      <th></th>\n",
       "      <th>time</th>\n",
       "      <th>P77_ZIT_1244001C</th>\n",
       "      <th>P77_ZIT_1244001D</th>\n",
       "      <th>P77_ZIT_1244002C</th>\n",
       "      <th>P77_ZIT_1244002D</th>\n",
       "      <th>P77_PIT_1244007C</th>\n",
       "      <th>P77_PIT_1244008C</th>\n",
       "      <th>P77_PIT_1244007D</th>\n",
       "      <th>P77_PIT_1244008D</th>\n",
       "      <th>P77_SDY_1210002C</th>\n",
       "      <th>P77_SDY_1210002D</th>\n",
       "    </tr>\n",
       "  </thead>\n",
       "  <tbody>\n",
       "    <tr>\n",
       "      <th>2865</th>\n",
       "      <td>2022-11-16 23:46:00</td>\n",
       "      <td>0.0</td>\n",
       "      <td>0.0</td>\n",
       "      <td>-0.362353</td>\n",
       "      <td>-0.219097</td>\n",
       "      <td>-0.631376</td>\n",
       "      <td>-0.627005</td>\n",
       "      <td>-0.131333</td>\n",
       "      <td>-0.042549</td>\n",
       "      <td>1</td>\n",
       "      <td>1</td>\n",
       "    </tr>\n",
       "    <tr>\n",
       "      <th>2866</th>\n",
       "      <td>2022-11-16 23:47:00</td>\n",
       "      <td>0.0</td>\n",
       "      <td>0.0</td>\n",
       "      <td>-0.363179</td>\n",
       "      <td>-0.218769</td>\n",
       "      <td>-0.634179</td>\n",
       "      <td>-0.631878</td>\n",
       "      <td>-0.127839</td>\n",
       "      <td>-0.084392</td>\n",
       "      <td>1</td>\n",
       "      <td>1</td>\n",
       "    </tr>\n",
       "    <tr>\n",
       "      <th>2867</th>\n",
       "      <td>2022-11-16 23:48:00</td>\n",
       "      <td>0.0</td>\n",
       "      <td>0.0</td>\n",
       "      <td>-0.363179</td>\n",
       "      <td>-0.218769</td>\n",
       "      <td>-0.627981</td>\n",
       "      <td>-0.624158</td>\n",
       "      <td>0.049661</td>\n",
       "      <td>0.060975</td>\n",
       "      <td>1</td>\n",
       "      <td>1</td>\n",
       "    </tr>\n",
       "    <tr>\n",
       "      <th>2868</th>\n",
       "      <td>2022-11-16 23:49:00</td>\n",
       "      <td>0.0</td>\n",
       "      <td>0.0</td>\n",
       "      <td>-0.363179</td>\n",
       "      <td>-0.219097</td>\n",
       "      <td>-0.628218</td>\n",
       "      <td>-0.627680</td>\n",
       "      <td>0.065850</td>\n",
       "      <td>0.044681</td>\n",
       "      <td>1</td>\n",
       "      <td>1</td>\n",
       "    </tr>\n",
       "    <tr>\n",
       "      <th>2869</th>\n",
       "      <td>2022-11-16 23:50:00</td>\n",
       "      <td>0.0</td>\n",
       "      <td>0.0</td>\n",
       "      <td>-0.363179</td>\n",
       "      <td>-0.219097</td>\n",
       "      <td>-0.629386</td>\n",
       "      <td>-0.631168</td>\n",
       "      <td>0.020658</td>\n",
       "      <td>0.017629</td>\n",
       "      <td>1</td>\n",
       "      <td>1</td>\n",
       "    </tr>\n",
       "  </tbody>\n",
       "</table>\n",
       "</div>"
      ],
      "text/plain": [
       "                    time  P77_ZIT_1244001C  P77_ZIT_1244001D  \\\n",
       "2865 2022-11-16 23:46:00               0.0               0.0   \n",
       "2866 2022-11-16 23:47:00               0.0               0.0   \n",
       "2867 2022-11-16 23:48:00               0.0               0.0   \n",
       "2868 2022-11-16 23:49:00               0.0               0.0   \n",
       "2869 2022-11-16 23:50:00               0.0               0.0   \n",
       "\n",
       "      P77_ZIT_1244002C  P77_ZIT_1244002D  P77_PIT_1244007C  P77_PIT_1244008C  \\\n",
       "2865         -0.362353         -0.219097         -0.631376         -0.627005   \n",
       "2866         -0.363179         -0.218769         -0.634179         -0.631878   \n",
       "2867         -0.363179         -0.218769         -0.627981         -0.624158   \n",
       "2868         -0.363179         -0.219097         -0.628218         -0.627680   \n",
       "2869         -0.363179         -0.219097         -0.629386         -0.631168   \n",
       "\n",
       "      P77_PIT_1244007D  P77_PIT_1244008D  P77_SDY_1210002C  P77_SDY_1210002D  \n",
       "2865         -0.131333         -0.042549                 1                 1  \n",
       "2866         -0.127839         -0.084392                 1                 1  \n",
       "2867          0.049661          0.060975                 1                 1  \n",
       "2868          0.065850          0.044681                 1                 1  \n",
       "2869          0.020658          0.017629                 1                 1  "
      ]
     },
     "execution_count": 20,
     "metadata": {},
     "output_type": "execute_result"
    }
   ],
   "source": [
    "supress.head()"
   ]
  },
  {
   "cell_type": "code",
   "execution_count": 19,
   "id": "e5e51ca3",
   "metadata": {},
   "outputs": [
    {
     "data": {
      "text/html": [
       "<div>\n",
       "<style scoped>\n",
       "    .dataframe tbody tr th:only-of-type {\n",
       "        vertical-align: middle;\n",
       "    }\n",
       "\n",
       "    .dataframe tbody tr th {\n",
       "        vertical-align: top;\n",
       "    }\n",
       "\n",
       "    .dataframe thead th {\n",
       "        text-align: right;\n",
       "    }\n",
       "</style>\n",
       "<table border=\"1\" class=\"dataframe\">\n",
       "  <thead>\n",
       "    <tr style=\"text-align: right;\">\n",
       "      <th></th>\n",
       "      <th>time</th>\n",
       "      <th>P77_ZIT_1244001C</th>\n",
       "      <th>P77_ZIT_1244001D</th>\n",
       "      <th>P77_ZIT_1244002C</th>\n",
       "      <th>P77_ZIT_1244002D</th>\n",
       "      <th>P77_PIT_1244007C</th>\n",
       "      <th>P77_PIT_1244008C</th>\n",
       "      <th>P77_PIT_1244007D</th>\n",
       "      <th>P77_PIT_1244008D</th>\n",
       "      <th>P77_SDY_1210002C</th>\n",
       "      <th>P77_SDY_1210002D</th>\n",
       "    </tr>\n",
       "  </thead>\n",
       "  <tbody>\n",
       "    <tr>\n",
       "      <th>5357</th>\n",
       "      <td>2022-11-18 17:18:00</td>\n",
       "      <td>0.0</td>\n",
       "      <td>0.0</td>\n",
       "      <td>-2.707128</td>\n",
       "      <td>-2.385837</td>\n",
       "      <td>-0.736092</td>\n",
       "      <td>-0.729032</td>\n",
       "      <td>-3.804548</td>\n",
       "      <td>-3.803120</td>\n",
       "      <td>0</td>\n",
       "      <td>0</td>\n",
       "    </tr>\n",
       "    <tr>\n",
       "      <th>5358</th>\n",
       "      <td>2022-11-18 17:19:00</td>\n",
       "      <td>0.0</td>\n",
       "      <td>0.0</td>\n",
       "      <td>-2.707128</td>\n",
       "      <td>-2.385837</td>\n",
       "      <td>-0.652870</td>\n",
       "      <td>-0.653893</td>\n",
       "      <td>-3.801648</td>\n",
       "      <td>-3.799181</td>\n",
       "      <td>0</td>\n",
       "      <td>0</td>\n",
       "    </tr>\n",
       "    <tr>\n",
       "      <th>5359</th>\n",
       "      <td>2022-11-18 17:20:00</td>\n",
       "      <td>0.0</td>\n",
       "      <td>0.0</td>\n",
       "      <td>-2.707128</td>\n",
       "      <td>-2.385837</td>\n",
       "      <td>-0.600663</td>\n",
       "      <td>-0.595406</td>\n",
       "      <td>-3.797984</td>\n",
       "      <td>-3.796680</td>\n",
       "      <td>0</td>\n",
       "      <td>0</td>\n",
       "    </tr>\n",
       "    <tr>\n",
       "      <th>5360</th>\n",
       "      <td>2022-11-18 17:21:00</td>\n",
       "      <td>0.0</td>\n",
       "      <td>0.0</td>\n",
       "      <td>-2.707128</td>\n",
       "      <td>-2.385837</td>\n",
       "      <td>-0.548093</td>\n",
       "      <td>-0.547966</td>\n",
       "      <td>-3.795360</td>\n",
       "      <td>-3.795365</td>\n",
       "      <td>0</td>\n",
       "      <td>0</td>\n",
       "    </tr>\n",
       "    <tr>\n",
       "      <th>5361</th>\n",
       "      <td>2022-11-18 17:22:00</td>\n",
       "      <td>0.0</td>\n",
       "      <td>0.0</td>\n",
       "      <td>-2.707128</td>\n",
       "      <td>-2.385837</td>\n",
       "      <td>-0.505252</td>\n",
       "      <td>-0.503192</td>\n",
       "      <td>-3.795221</td>\n",
       "      <td>-3.793926</td>\n",
       "      <td>0</td>\n",
       "      <td>0</td>\n",
       "    </tr>\n",
       "    <tr>\n",
       "      <th>5362</th>\n",
       "      <td>2022-11-18 17:23:00</td>\n",
       "      <td>0.0</td>\n",
       "      <td>0.0</td>\n",
       "      <td>-2.707128</td>\n",
       "      <td>-2.385837</td>\n",
       "      <td>-0.460941</td>\n",
       "      <td>-0.459961</td>\n",
       "      <td>-3.792732</td>\n",
       "      <td>-3.791425</td>\n",
       "      <td>0</td>\n",
       "      <td>0</td>\n",
       "    </tr>\n",
       "    <tr>\n",
       "      <th>5363</th>\n",
       "      <td>2022-11-18 17:24:00</td>\n",
       "      <td>0.0</td>\n",
       "      <td>0.0</td>\n",
       "      <td>-2.428642</td>\n",
       "      <td>-2.385837</td>\n",
       "      <td>3.094306</td>\n",
       "      <td>3.093944</td>\n",
       "      <td>-3.791421</td>\n",
       "      <td>-3.790113</td>\n",
       "      <td>0</td>\n",
       "      <td>0</td>\n",
       "    </tr>\n",
       "    <tr>\n",
       "      <th>5364</th>\n",
       "      <td>2022-11-18 17:25:00</td>\n",
       "      <td>0.0</td>\n",
       "      <td>0.0</td>\n",
       "      <td>-2.446279</td>\n",
       "      <td>-2.385837</td>\n",
       "      <td>3.045814</td>\n",
       "      <td>3.042143</td>\n",
       "      <td>-3.791281</td>\n",
       "      <td>-3.788797</td>\n",
       "      <td>0</td>\n",
       "      <td>0</td>\n",
       "    </tr>\n",
       "    <tr>\n",
       "      <th>5365</th>\n",
       "      <td>2022-11-18 17:26:00</td>\n",
       "      <td>0.0</td>\n",
       "      <td>0.0</td>\n",
       "      <td>-2.454125</td>\n",
       "      <td>-2.385837</td>\n",
       "      <td>1.136234</td>\n",
       "      <td>-0.026656</td>\n",
       "      <td>-3.789966</td>\n",
       "      <td>-3.788797</td>\n",
       "      <td>1</td>\n",
       "      <td>0</td>\n",
       "    </tr>\n",
       "    <tr>\n",
       "      <th>5366</th>\n",
       "      <td>2022-11-18 17:27:00</td>\n",
       "      <td>0.0</td>\n",
       "      <td>0.0</td>\n",
       "      <td>-2.459022</td>\n",
       "      <td>-2.385837</td>\n",
       "      <td>-0.581976</td>\n",
       "      <td>-0.532626</td>\n",
       "      <td>-3.789966</td>\n",
       "      <td>-3.787485</td>\n",
       "      <td>1</td>\n",
       "      <td>0</td>\n",
       "    </tr>\n",
       "    <tr>\n",
       "      <th>5367</th>\n",
       "      <td>2022-11-18 17:28:00</td>\n",
       "      <td>0.0</td>\n",
       "      <td>0.0</td>\n",
       "      <td>-2.268018</td>\n",
       "      <td>-2.385837</td>\n",
       "      <td>-0.651081</td>\n",
       "      <td>-0.690367</td>\n",
       "      <td>-3.789584</td>\n",
       "      <td>-3.786940</td>\n",
       "      <td>1</td>\n",
       "      <td>0</td>\n",
       "    </tr>\n",
       "    <tr>\n",
       "      <th>5368</th>\n",
       "      <td>2022-11-18 17:29:00</td>\n",
       "      <td>0.0</td>\n",
       "      <td>0.0</td>\n",
       "      <td>-2.180702</td>\n",
       "      <td>-2.385837</td>\n",
       "      <td>-0.739573</td>\n",
       "      <td>-0.743828</td>\n",
       "      <td>-3.787339</td>\n",
       "      <td>-3.786173</td>\n",
       "      <td>1</td>\n",
       "      <td>0</td>\n",
       "    </tr>\n",
       "    <tr>\n",
       "      <th>5369</th>\n",
       "      <td>2022-11-18 17:30:00</td>\n",
       "      <td>0.0</td>\n",
       "      <td>0.0</td>\n",
       "      <td>-2.191138</td>\n",
       "      <td>-2.385837</td>\n",
       "      <td>-0.739581</td>\n",
       "      <td>-0.737488</td>\n",
       "      <td>-3.786379</td>\n",
       "      <td>-3.784858</td>\n",
       "      <td>1</td>\n",
       "      <td>0</td>\n",
       "    </tr>\n",
       "    <tr>\n",
       "      <th>5370</th>\n",
       "      <td>2022-11-18 17:31:00</td>\n",
       "      <td>0.0</td>\n",
       "      <td>0.0</td>\n",
       "      <td>-2.199321</td>\n",
       "      <td>-2.385837</td>\n",
       "      <td>-0.736723</td>\n",
       "      <td>-0.741540</td>\n",
       "      <td>-3.786027</td>\n",
       "      <td>-3.783681</td>\n",
       "      <td>1</td>\n",
       "      <td>0</td>\n",
       "    </tr>\n",
       "    <tr>\n",
       "      <th>5371</th>\n",
       "      <td>2022-11-18 17:32:00</td>\n",
       "      <td>0.0</td>\n",
       "      <td>0.0</td>\n",
       "      <td>-2.202755</td>\n",
       "      <td>-2.385837</td>\n",
       "      <td>-0.733430</td>\n",
       "      <td>-0.732790</td>\n",
       "      <td>-3.784715</td>\n",
       "      <td>-3.782387</td>\n",
       "      <td>1</td>\n",
       "      <td>0</td>\n",
       "    </tr>\n",
       "    <tr>\n",
       "      <th>5372</th>\n",
       "      <td>2022-11-18 17:33:00</td>\n",
       "      <td>0.0</td>\n",
       "      <td>0.0</td>\n",
       "      <td>-2.205786</td>\n",
       "      <td>-2.385837</td>\n",
       "      <td>-0.726201</td>\n",
       "      <td>-0.726697</td>\n",
       "      <td>-3.782464</td>\n",
       "      <td>-3.782042</td>\n",
       "      <td>1</td>\n",
       "      <td>0</td>\n",
       "    </tr>\n",
       "    <tr>\n",
       "      <th>5373</th>\n",
       "      <td>2022-11-18 17:34:00</td>\n",
       "      <td>0.0</td>\n",
       "      <td>0.0</td>\n",
       "      <td>-2.231449</td>\n",
       "      <td>-2.385837</td>\n",
       "      <td>-0.714976</td>\n",
       "      <td>-0.710704</td>\n",
       "      <td>-3.781758</td>\n",
       "      <td>-3.779792</td>\n",
       "      <td>1</td>\n",
       "      <td>0</td>\n",
       "    </tr>\n",
       "    <tr>\n",
       "      <th>5374</th>\n",
       "      <td>2022-11-18 17:35:00</td>\n",
       "      <td>0.0</td>\n",
       "      <td>0.0</td>\n",
       "      <td>1.466604</td>\n",
       "      <td>-2.385837</td>\n",
       "      <td>-0.186711</td>\n",
       "      <td>0.031924</td>\n",
       "      <td>-3.780395</td>\n",
       "      <td>-3.778290</td>\n",
       "      <td>1</td>\n",
       "      <td>0</td>\n",
       "    </tr>\n",
       "  </tbody>\n",
       "</table>\n",
       "</div>"
      ],
      "text/plain": [
       "                    time  P77_ZIT_1244001C  P77_ZIT_1244001D  \\\n",
       "5357 2022-11-18 17:18:00               0.0               0.0   \n",
       "5358 2022-11-18 17:19:00               0.0               0.0   \n",
       "5359 2022-11-18 17:20:00               0.0               0.0   \n",
       "5360 2022-11-18 17:21:00               0.0               0.0   \n",
       "5361 2022-11-18 17:22:00               0.0               0.0   \n",
       "5362 2022-11-18 17:23:00               0.0               0.0   \n",
       "5363 2022-11-18 17:24:00               0.0               0.0   \n",
       "5364 2022-11-18 17:25:00               0.0               0.0   \n",
       "5365 2022-11-18 17:26:00               0.0               0.0   \n",
       "5366 2022-11-18 17:27:00               0.0               0.0   \n",
       "5367 2022-11-18 17:28:00               0.0               0.0   \n",
       "5368 2022-11-18 17:29:00               0.0               0.0   \n",
       "5369 2022-11-18 17:30:00               0.0               0.0   \n",
       "5370 2022-11-18 17:31:00               0.0               0.0   \n",
       "5371 2022-11-18 17:32:00               0.0               0.0   \n",
       "5372 2022-11-18 17:33:00               0.0               0.0   \n",
       "5373 2022-11-18 17:34:00               0.0               0.0   \n",
       "5374 2022-11-18 17:35:00               0.0               0.0   \n",
       "\n",
       "      P77_ZIT_1244002C  P77_ZIT_1244002D  P77_PIT_1244007C  P77_PIT_1244008C  \\\n",
       "5357         -2.707128         -2.385837         -0.736092         -0.729032   \n",
       "5358         -2.707128         -2.385837         -0.652870         -0.653893   \n",
       "5359         -2.707128         -2.385837         -0.600663         -0.595406   \n",
       "5360         -2.707128         -2.385837         -0.548093         -0.547966   \n",
       "5361         -2.707128         -2.385837         -0.505252         -0.503192   \n",
       "5362         -2.707128         -2.385837         -0.460941         -0.459961   \n",
       "5363         -2.428642         -2.385837          3.094306          3.093944   \n",
       "5364         -2.446279         -2.385837          3.045814          3.042143   \n",
       "5365         -2.454125         -2.385837          1.136234         -0.026656   \n",
       "5366         -2.459022         -2.385837         -0.581976         -0.532626   \n",
       "5367         -2.268018         -2.385837         -0.651081         -0.690367   \n",
       "5368         -2.180702         -2.385837         -0.739573         -0.743828   \n",
       "5369         -2.191138         -2.385837         -0.739581         -0.737488   \n",
       "5370         -2.199321         -2.385837         -0.736723         -0.741540   \n",
       "5371         -2.202755         -2.385837         -0.733430         -0.732790   \n",
       "5372         -2.205786         -2.385837         -0.726201         -0.726697   \n",
       "5373         -2.231449         -2.385837         -0.714976         -0.710704   \n",
       "5374          1.466604         -2.385837         -0.186711          0.031924   \n",
       "\n",
       "      P77_PIT_1244007D  P77_PIT_1244008D  P77_SDY_1210002C  P77_SDY_1210002D  \n",
       "5357         -3.804548         -3.803120                 0                 0  \n",
       "5358         -3.801648         -3.799181                 0                 0  \n",
       "5359         -3.797984         -3.796680                 0                 0  \n",
       "5360         -3.795360         -3.795365                 0                 0  \n",
       "5361         -3.795221         -3.793926                 0                 0  \n",
       "5362         -3.792732         -3.791425                 0                 0  \n",
       "5363         -3.791421         -3.790113                 0                 0  \n",
       "5364         -3.791281         -3.788797                 0                 0  \n",
       "5365         -3.789966         -3.788797                 1                 0  \n",
       "5366         -3.789966         -3.787485                 1                 0  \n",
       "5367         -3.789584         -3.786940                 1                 0  \n",
       "5368         -3.787339         -3.786173                 1                 0  \n",
       "5369         -3.786379         -3.784858                 1                 0  \n",
       "5370         -3.786027         -3.783681                 1                 0  \n",
       "5371         -3.784715         -3.782387                 1                 0  \n",
       "5372         -3.782464         -3.782042                 1                 0  \n",
       "5373         -3.781758         -3.779792                 1                 0  \n",
       "5374         -3.780395         -3.778290                 1                 0  "
      ]
     },
     "execution_count": 19,
     "metadata": {},
     "output_type": "execute_result"
    }
   ],
   "source": [
    "mask = supress['P77_SDY_1210002D'] == 0\n",
    "supress.loc[mask]"
   ]
  },
  {
   "cell_type": "code",
   "execution_count": 30,
   "id": "c70f6498",
   "metadata": {},
   "outputs": [
    {
     "data": {
      "text/plain": [
       "Index(['time', 'P77_ZIT_1244001C', 'P77_ZIT_1244001D', 'P77_ZIT_1244002C',\n",
       "       'P77_ZIT_1244002D', 'P77_PIT_1244007C', 'P77_PIT_1244008C',\n",
       "       'P77_PIT_1244007D', 'P77_PIT_1244008D', 'P77_SDY_1210002C',\n",
       "       'P77_SDY_1210002D'],\n",
       "      dtype='object')"
      ]
     },
     "execution_count": 30,
     "metadata": {},
     "output_type": "execute_result"
    }
   ],
   "source": [
    "supress.columns"
   ]
  },
  {
   "cell_type": "code",
   "execution_count": null,
   "id": "61407dce",
   "metadata": {},
   "outputs": [],
   "source": [
    "ZIT_1244002C,ABER-CKP,C,ns=2;s=AI.PCS.AI_PV_ZIT_1244002C,ns=2;s=AI.PCS.AI_PV_ZIT_1244002C,%,float,0,1,0,1,PCS,P77\n",
    "ZIT_1244002D,ABER-CKP,D,9-BUZ-4-RJS,ns=2;s=AI.PCS.AI_PV_ZIT_1244002D,ns=2;s=AI.PCS.AI_PV_ZIT_1244002D,%,float,0,1,0,1,PCS,P77\n",
    "SDY_1210002C,ESTADO-POCO,C,9-BUZ-3-RJS,ns=2;s=EPT.PSD.DI_EPT_ZSH_1210002C,ns=2;s=EPT.PSD.DI_EPT_ZSH_1210002C,,uint,0,1,0,1,PSD,P77\n",
    "SDY_1210002D,ESTADO-POCO,D,9-BUZ-4-RJS,ns=2;s=EPT.PSD.DI_EPT_ZSH_1210002D,ns=2;s=EPT.PSD.DI_EPT_ZSH_1210002D,,uint,0,1,0,1,PSD,P77\n",
    "\n",
    "ZSH_1210001Q,ESTADO-POCO,Q,7-BUZ-12-RJS,ns=2;s=EPT.PSD.DI_EPT_ZSH_1210001Q,,uint,0,1,0,1,PSD,P77\n",
    "ZIT_1210001L,ABER-CKP,L,9-BUZ-4-RJS,ns=2;s=AI.PCS.AI_PV_ZIT_1210001L,ns=2;s=AI.PCS.AI_PV_ZIT_1210001L,%,float,0,1,0,1,PCS,P77"
   ]
  }
 ],
 "metadata": {
  "kernelspec": {
   "display_name": "Python 3",
   "language": "python",
   "name": "python3"
  },
  "language_info": {
   "codemirror_mode": {
    "name": "ipython",
    "version": 3
   },
   "file_extension": ".py",
   "mimetype": "text/x-python",
   "name": "python",
   "nbconvert_exporter": "python",
   "pygments_lexer": "ipython3",
   "version": "3.9.12"
  }
 },
 "nbformat": 4,
 "nbformat_minor": 5
}
