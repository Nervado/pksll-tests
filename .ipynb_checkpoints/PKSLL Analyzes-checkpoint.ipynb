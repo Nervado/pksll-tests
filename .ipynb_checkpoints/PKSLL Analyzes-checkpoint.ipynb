{
 "cells": [
  {
   "cell_type": "code",
   "execution_count": 2,
   "id": "9f8e770f",
   "metadata": {},
   "outputs": [],
   "source": [
    "import logging\n",
    "import pandas as pd\n",
    "\n",
    "from dataclasses import dataclass\n",
    "from datetime import date, datetime, timezone, timedelta\n",
    "from typing import Dict, List\n",
    "from influxdb_client import InfluxDBClient, Point\n",
    "from influxdb_client.client.write_api import ASYNCHRONOUS\n",
    "from pandas import DataFrame\n",
    "from IPython.display import clear_output\n",
    "import matplotlib.pyplot as plt\n",
    "from termcolor import colored\n",
    "\n",
    "from scc_co2_buz.domain.models.well_data import IO\n",
    "from scc_co2_buz.helpers.utils.io_normalize import db_types \n",
    "from scc_co2_buz.helpers.utils.get_utc import get_utc_now\n",
    "from scc_co2_buz.domain.models.tag import TagModel"
   ]
  },
  {
   "cell_type": "code",
   "execution_count": null,
   "id": "aafae17a",
   "metadata": {},
   "outputs": [],
   "source": [
    "map_to_tag = {    \n",
    "    '9-BUZ-3-RJS': 'well injection C', '9-BUZ-1-RJS':'well injection A', '9-BUZ-6-RJS': 'well injection F', '9-BUZ-5-RJS': 'well injection E', '9-BUZ-4-RJS' : 'well injection D', '9-BUZ-2-RJS' : 'well injection B'\n",
    "}"
   ]
  },
  {
   "cell_type": "code",
   "execution_count": null,
   "id": "7a7978e1",
   "metadata": {},
   "outputs": [],
   "source": [
    "class InfluxDbConfig:\n",
    "    \"\"\"\"\n",
    "    ConfigClass for InfluxDb\n",
    "    \"\"\"\n",
    "    def __init__(self) -> None:\n",
    "        self.url = \"http://10.136.226.25:8086\"\n",
    "        self.token = \"ganimede@2050\"\n",
    "        self.org = \"PETROBRAS\"\n",
    "        self.bucket = \"vip\"\n",
    "        self.write_options = ASYNCHRONOUS"
   ]
  },
  {
   "cell_type": "code",
   "execution_count": null,
   "id": "5c4f790b",
   "metadata": {},
   "outputs": [],
   "source": [
    "class InfluxDBadapter:\n",
    "    def __init__(self, config: InfluxDbConfig) -> None:\n",
    "        self.config = config\n",
    "        self.client = InfluxDBClient(config.url, config.token, debug=None, org=config.org)\n",
    "        self.log = logging.getLogger(name='repository')\n",
    "        print(\"connecting to P-77 database...\")\n",
    "    def closeConnection(self):\n",
    "        self.client.close()\n",
    "        self.log.info('connection to database closed')\n",
    "    def AddTag(self, tag: TagModel) -> Dict[bool, Exception]:\n",
    "        try:\n",
    "            _point = self.makeTagPoint(tag)\n",
    "            self.client.write_api(\n",
    "                write_options=self.config.write_options).write(bucket=self.config.bucket, record=[_point], org=self.config.org)\n",
    "            self.log.info('tag ' + tag.tag + ' sent to database')\n",
    "\n",
    "        except Exception as e:\n",
    "            msg = 'error sending tag ' + tag.tag + ' to database ' + e.args\n",
    "            self.log.error(msg)\n",
    "            return None, e\n",
    "        return (True, None)\n",
    "\n",
    "    def addAllTags(self, tags: List[TagModel]) -> Dict[bool, Exception]:\n",
    "        try:\n",
    "            points = [self.makeTagPoint(t) for t in tags]\n",
    "            db = self.client.write_api(\n",
    "                write_options=self.config.write_options).write(bucket=self.config.bucket, org=self.config.org, record=points)\n",
    "            db.get()\n",
    "        except Exception as e:\n",
    "            msg = 'error sending tags to database ' + str(e)\n",
    "            self.log.error(msg)\n",
    "            return None, e\n",
    "        return (True, None)\n",
    "\n",
    "    def makeTagPoint(self, tag: List[TagModel]) -> Point:\n",
    "        tag_field = 'DIAGNOSTIC' if tag.io in [\n",
    "            IO.HEARTBEAT, IO.GENERALDIAG] else 'well'\n",
    "        return Point(\"IO\").tag(tag_field, tag.wn).field(tag.io, db_types[tag.io](tag.value)).time(tag.timestamp)\n",
    "\n",
    "    def getData(self, start: date, end: date, tags:[TagModel] = None) -> DataFrame:\n",
    "        params = {\n",
    "            \"start\":  datetime.fromtimestamp(datetime.timestamp(start), tz=timezone.utc),\n",
    "            \"stop\": datetime.fromtimestamp(datetime.timestamp(end), tz=timezone.utc),\n",
    "            \"bucket\": self.config.bucket\n",
    "        }\n",
    "        filter_io = ''\n",
    "        db_cols = list(set([tag.io for tag in tags]))\n",
    "        for io in db_cols:\n",
    "            if io != db_cols[-1]:\n",
    "                filter_io = filter_io + f'r[\\\"_field\\\"] == \\\"{io}\\\" or '\n",
    "            else:\n",
    "                filter_io = filter_io + f'r[\\\"_field\\\"] == \\\"{io}\\\"'\n",
    "        query = 'from(bucket: bucket)\\\n",
    "            |> range(start: start, stop: stop)\\\n",
    "            |> filter(fn: (r) => r[\"_measurement\"] == \"IO\")\\\n",
    "            |> filter(fn: (r) => ' + filter_io + ')\\\n",
    "            |> yield(name: \"last\")'\n",
    "        query_api = self.client.query_api()\n",
    "        result = query_api.query(\n",
    "            org=self.config.org, query=query, params=params)\n",
    "        results = []\n",
    "        for table in result:\n",
    "            for record in table.records:\n",
    "                results.append((datetime.fromtimestamp(\n",
    "                    record.get_time().timestamp(), tz=timezone.utc), record.get_value(), record['well'], record.get_field()))\n",
    "        df = pd.DataFrame(data=results, columns=['time', 'value', 'oil_well', 'io'])\n",
    "        df2 = df.pivot(index=['time', 'oil_well'], columns=['io'], values=['value']).reset_index()\n",
    "        df2.columns = [c[{'time': 0, 'oil_well': 0, 'value': 1}[c[0]]] for c in df2.columns]\n",
    "        return df2"
   ]
  },
  {
   "cell_type": "code",
   "execution_count": null,
   "id": "959d92ab",
   "metadata": {},
   "outputs": [],
   "source": [
    "repo = InfluxDBadapter(config=InfluxDbConfig())\n",
    "tag1 = TagModel(paths=[None, None],tag='PIT_1244007A',conversion=[0,1,0,1], tp='float', io=\"P-JUZ-CKP-A\")\n",
    "tag2 = TagModel(paths=[None, None],tag='PIT_1244007B',conversion=[0,1,0,1], tp='float', io=\"P-JUZ-CKP-B\")"
   ]
  },
  {
   "cell_type": "code",
   "execution_count": null,
   "id": "6a2880b2",
   "metadata": {
    "scrolled": true
   },
   "outputs": [],
   "source": [
    "end = get_utc_now()\n",
    "start = get_utc_now() - timedelta(seconds=259200)\n",
    "# comentando para não ficar baixando dados do banco\n",
    "#df = repo.getData(start=start, end=end, tags=[tag1,tag2])\n",
    "#df['oil_well'] = df['oil_well'].apply(lambda x: map_to_tag[x])\n",
    "#df = df.rename(columns={IO.PJCKPA: \"PIT-1244007\", IO.PJCKPB:\"PIT-1244008\"})\n",
    "#df_select = df.query('oil_well==\"well injection C\" or oil_well == \"well injection D\"')\n",
    "#df_select.tail()"
   ]
  },
  {
   "cell_type": "code",
   "execution_count": 9,
   "id": "f8238e3f",
   "metadata": {},
   "outputs": [
    {
     "name": "stdout",
     "output_type": "stream",
     "text": [
      "Expected number of samples 2 x seconds / 5 = 84620\n",
      "Received number of samples = 78224\n",
      "lost samples = 6396.925513935086\n",
      " % lost = 0.0755950785823261\n"
     ]
    }
   ],
   "source": [
    "df_select=pd.read_csv(\"output_data.csv\")\n",
    "df_select['time'] = df_select['time'].apply(lambda x: datetime.strptime(x.split('+')[0], '%Y-%m-%d %H:%M:%S.%f')) \n",
    "delta = df_select['time'].max().timestamp() - df_select['time'].min().timestamp()\n",
    "expsamples = 2 * delta / 5\n",
    "\n",
    "print(\"Expected number of samples 2 x seconds / 5 = \" +  str(int(expsamples)))\n",
    "print(\"Received number of samples = \" +  str(len(df_select)))\n",
    "print(\"lost samples = \" + str(2*delta/5 - len(df_select)))\n",
    "print(\" % lost = \" + str(str(( 2 * delta/ 5 - len(df_select))/(2*delta/5))))"
   ]
  },
  {
   "cell_type": "code",
   "execution_count": 10,
   "id": "90dd466a",
   "metadata": {},
   "outputs": [
    {
     "data": {
      "text/plain": [
       "<AxesSubplot: >"
      ]
     },
     "execution_count": 10,
     "metadata": {},
     "output_type": "execute_result"
    },
    {
     "data": {
      "image/png": "[encoded data removed]",
      "text/plain": [
       "<Figure size 432x288 with 1 Axes>"
      ]
     },
     "metadata": {
      "needs_background": "light"
     },
     "output_type": "display_data"
    }
   ],
   "source": [
    "df_select[df_select['oil_well'] == 'well injection D']['PIT-1244007'].hist(bins=100)"
   ]
  },
  {
   "cell_type": "code",
   "execution_count": 11,
   "id": "5a1d459a",
   "metadata": {},
   "outputs": [
    {
     "data": {
      "text/plain": [
       "<AxesSubplot: >"
      ]
     },
     "execution_count": 11,
     "metadata": {},
     "output_type": "execute_result"
    },
    {
     "data": {
      "image/png": "[encoded data removed]",
      "text/plain": [
       "<Figure size 432x288 with 1 Axes>"
      ]
     },
     "metadata": {
      "needs_background": "light"
     },
     "output_type": "display_data"
    }
   ],
   "source": [
    "df_select[df_select['oil_well'] == 'well injection D']['PIT-1244008'].hist(bins=100)"
   ]
  },
  {
   "cell_type": "code",
   "execution_count": 96,
   "id": "32fc902c",
   "metadata": {},
   "outputs": [],
   "source": [
    "@dataclass\n",
    "class Color:\n",
    "   PURPLE = '\\033[1;35;48m'\n",
    "   CYAN = '\\033[1;36;48m'\n",
    "   BOLD = '\\033[1;37;48m'\n",
    "   BLUE = '\\033[1;34;48m'\n",
    "   GREEN = \"\\033[1;32;48m\"\n",
    "   YELLOW = '\\033[1;33;48m'\n",
    "   RED = '\\033[1;31;48m'\n",
    "   BLACK = '\\033[1;30;48m'\n",
    "   UNDERLINE = '\\033[4;37;48m'\n",
    "   END = '\\033[1;37;0m'\n",
    "\n",
    "\n",
    "def print_colored(msg:str, color: Color = Color.GREEN):\n",
    "    print(\"{} {} {}\".format(color,msg, Color.END))\n",
    "    \n",
    "\n",
    "def calcNormStd(df, well, pit, delta = timedelta(seconds=60)):\n",
    "    start = df['time'].min()\n",
    "    end = start + delta\n",
    "    max_norm_std = -1.0\n",
    "    \n",
    "    time_limit = df.iloc[-1]['time'] - timedelta(seconds=60)\n",
    "    iteration = 0\n",
    "    total_iterations = int((time_limit.timestamp() - start.timestamp()) / 60 )    \n",
    "    \n",
    "    values = []\n",
    "    iterations = []\n",
    "    \n",
    "    #time_limit = 1000 * delta + start\n",
    "    \n",
    "    max_sample_data = None\n",
    "    \n",
    "    while start <= time_limit:\n",
    "        mask = (df['oil_well'] == well) & (df['time'] >= start) & (df['time'] < end) \n",
    "        current_data = df.loc[mask][pit]\n",
    "        current_norm_std = current_data.std() / current_data.mean()\n",
    "        iteration += 1\n",
    "        clear_output(wait=True)\n",
    "        msg = f'iteration = {iteration} \\n > progress = {100*iteration/total_iterations if iteration < total_iterations else 100.00} %'\n",
    "        color = \"green\"\n",
    "        print_colored(msg, Color.GREEN)\n",
    "        \n",
    "        if current_norm_std > max_norm_std:\n",
    "            max_norm_std = current_norm_std \n",
    "            values.append(max_norm_std) \n",
    "            iterations.append(iteration)\n",
    "            print(max_norm_std)\n",
    "            max_sample_data = current_data\n",
    "    \n",
    "        start = start + delta\n",
    "        end = end + delta\n",
    "        \n",
    "    df_std = pd.DataFrame({'iteration': iterations, 'variation': values})\n",
    "    df_std.plot(x='iteration', y='variation', kind='line')\n",
    "    plt.show()\n",
    "    \n",
    "    #print(max_sample_data)\n",
    "    #print(max_sample_data.max())\n",
    "    #print(max_sample_data.min())\n",
    "    #print(max_sample_data.std())\n",
    "    #print(max_sample_data.mean())\n",
    "    #print(max_sample_data.std()/max_sample_data.mean())\n",
    "    #print(max_sample_data.max())\n",
    "        \n",
    "    return f'coefficient of variation = {100*max_norm_std} %'"
   ]
  },
  {
   "cell_type": "code",
   "execution_count": 97,
   "id": "517d35af",
   "metadata": {},
   "outputs": [
    {
     "name": "stdout",
     "output_type": "stream",
     "text": [
      "\u001b[1;32;48m iteration = 3525 \n",
      " > progress = 100.0 % \u001b[1;37;0m\n"
     ]
    },
    {
     "data": {
      "image/png": "[encoded data removed]",
      "text/plain": [
       "<Figure size 432x288 with 1 Axes>"
      ]
     },
     "metadata": {
      "needs_background": "light"
     },
     "output_type": "display_data"
    },
    {
     "data": {
      "text/plain": [
       "'coefficient of variation = 13.906542966383581 %'"
      ]
     },
     "execution_count": 97,
     "metadata": {},
     "output_type": "execute_result"
    }
   ],
   "source": [
    "calcNormStd(df_select, 'well injection C', 'PIT-1244007')"
   ]
  },
  {
   "cell_type": "code",
   "execution_count": 98,
   "id": "940d51f9",
   "metadata": {
    "scrolled": true
   },
   "outputs": [
    {
     "name": "stdout",
     "output_type": "stream",
     "text": [
      "\u001b[1;32;48m iteration = 3525 \n",
      " > progress = 100.0 % \u001b[1;37;0m\n"
     ]
    },
    {
     "data": {
      "image/png": "[encoded data removed]",
      "text/plain": [
       "<Figure size 432x288 with 1 Axes>"
      ]
     },
     "metadata": {
      "needs_background": "light"
     },
     "output_type": "display_data"
    },
    {
     "data": {
      "text/plain": [
       "'coefficient of variation = 13.867375779959309 %'"
      ]
     },
     "execution_count": 98,
     "metadata": {},
     "output_type": "execute_result"
    }
   ],
   "source": [
    "calcNormStd(df_select, 'well injection C', 'PIT-1244008')"
   ]
  },
  {
   "cell_type": "code",
   "execution_count": 99,
   "id": "0ab0608e",
   "metadata": {},
   "outputs": [
    {
     "name": "stdout",
     "output_type": "stream",
     "text": [
      "\u001b[1;32;48m iteration = 3525 \n",
      " > progress = 100.0 % \u001b[1;37;0m\n"
     ]
    },
    {
     "data": {
      "image/png": "[encoded data removed]",
      "text/plain": [
       "<Figure size 432x288 with 1 Axes>"
      ]
     },
     "metadata": {
      "needs_background": "light"
     },
     "output_type": "display_data"
    },
    {
     "data": {
      "text/plain": [
       "'coefficient of variation = 4.235235216432839 %'"
      ]
     },
     "execution_count": 99,
     "metadata": {},
     "output_type": "execute_result"
    }
   ],
   "source": [
    "calcNormStd(df_select, 'well injection D', 'PIT-1244007')"
   ]
  },
  {
   "cell_type": "code",
   "execution_count": 100,
   "id": "028593a2",
   "metadata": {},
   "outputs": [
    {
     "name": "stdout",
     "output_type": "stream",
     "text": [
      "\u001b[1;32;48m iteration = 3525 \n",
      " > progress = 100.0 % \u001b[1;37;0m\n"
     ]
    },
    {
     "data": {
      "image/png": "[encoded data removed]",
      "text/plain": [
       "<Figure size 432x288 with 1 Axes>"
      ]
     },
     "metadata": {
      "needs_background": "light"
     },
     "output_type": "display_data"
    },
    {
     "data": {
      "text/plain": [
       "'coefficient of variation = 4.239706304637527 %'"
      ]
     },
     "execution_count": 100,
     "metadata": {},
     "output_type": "execute_result"
    }
   ],
   "source": [
    "calcNormStd(df_select, 'well injection D', 'PIT-1244008')"
   ]
  },
  {
   "cell_type": "code",
   "execution_count": null,
   "id": "eaa7cb53",
   "metadata": {},
   "outputs": [],
   "source": []
  }
 ],
 "metadata": {
  "kernelspec": {
   "display_name": "Python 3",
   "language": "python",
   "name": "python3"
  },
  "language_info": {
   "codemirror_mode": {
    "name": "ipython",
    "version": 3
   },
   "file_extension": ".py",
   "mimetype": "text/x-python",
   "name": "python",
   "nbconvert_exporter": "python",
   "pygments_lexer": "ipython3",
   "version": "3.9.15"
  }
 },
 "nbformat": 4,
 "nbformat_minor": 5
}
